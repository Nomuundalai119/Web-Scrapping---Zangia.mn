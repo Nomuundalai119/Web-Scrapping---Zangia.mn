{
 "cells": [
  {
   "cell_type": "markdown",
   "metadata": {},
   "source": [
    "Web Scraping"
   ]
  },
  {
   "cell_type": "markdown",
   "metadata": {},
   "source": [
    "Scraping job postings from one of Mongolia's top job boards: Zangia.mn (formerly BizNetwork). I will collect the following features from the site:\n",
    "\n",
    "- Job title\n",
    "- Job description\n",
    "- Job sector\n",
    "- Salary range\n",
    "\n",
    "If you go to https://www.zangia.mn/job/list you will see all the job listings. There are several pages of listings. \n",
    "\n",
    "here is my process\n",
    "\n",
    "1. Made a list of job post results.\n",
    "2. Scraped the listing URLs from the job list pages (1 through n).\n",
    "3. Using the resulting URL list to scrape the features to a dataframe.\n",
    "\n"
   ]
  },
  {
   "cell_type": "markdown",
   "metadata": {},
   "source": [
    "### Libraries"
   ]
  },
  {
   "cell_type": "code",
   "execution_count": 1,
   "metadata": {},
   "outputs": [],
   "source": [
    "import pandas as pd\n",
    "from bs4 import BeautifulSoup\n",
    "import requests\n",
    "from urllib.request import urlopen"
   ]
  },
  {
   "cell_type": "markdown",
   "metadata": {},
   "source": [
    "#### main"
   ]
  },
  {
   "cell_type": "code",
   "execution_count": 2,
   "metadata": {},
   "outputs": [],
   "source": [
    "def collect(a):\n",
    "    source = '\"\"\"'+str(a)+'\"\"\"'\n",
    "    soup = BeautifulSoup(source)\n",
    "    return soup.find(\"span\").text"
   ]
  },
  {
   "cell_type": "code",
   "execution_count": 3,
   "metadata": {},
   "outputs": [],
   "source": [
    "features =  ['Job title', 'Job description', 'Job sector', 'Salary range']\n",
    "collected_inf  = pd.DataFrame(columns = features)"
   ]
  },
  {
   "cell_type": "code",
   "execution_count": 4,
   "metadata": {},
   "outputs": [
    {
     "data": {
      "text/html": [
       "<div>\n",
       "<style scoped>\n",
       "    .dataframe tbody tr th:only-of-type {\n",
       "        vertical-align: middle;\n",
       "    }\n",
       "\n",
       "    .dataframe tbody tr th {\n",
       "        vertical-align: top;\n",
       "    }\n",
       "\n",
       "    .dataframe thead th {\n",
       "        text-align: right;\n",
       "    }\n",
       "</style>\n",
       "<table border=\"1\" class=\"dataframe\">\n",
       "  <thead>\n",
       "    <tr style=\"text-align: right;\">\n",
       "      <th></th>\n",
       "      <th>Job title</th>\n",
       "      <th>Job description</th>\n",
       "      <th>Job sector</th>\n",
       "      <th>Salary range</th>\n",
       "    </tr>\n",
       "  </thead>\n",
       "  <tbody>\n",
       "  </tbody>\n",
       "</table>\n",
       "</div>"
      ],
      "text/plain": [
       "Empty DataFrame\n",
       "Columns: [Job title, Job description, Job sector, Salary range]\n",
       "Index: []"
      ]
     },
     "execution_count": 4,
     "metadata": {},
     "output_type": "execute_result"
    }
   ],
   "source": [
    "collected_inf"
   ]
  },
  {
   "cell_type": "code",
   "execution_count": 5,
   "metadata": {},
   "outputs": [],
   "source": [
    "for i in range(1,86):\n",
    "    list_page = requests.get(f'https://www.zangia.mn/job/list/pg.{str(i)}').content.decode(\"utf-8\")\n",
    "    sp = BeautifulSoup(list_page, \"html.parser\")  \n",
    "    ad = sp.find_all(\"div\", attrs={\"class\": \"ad\"})\n",
    "    for element in ad:\n",
    "        source = '\"\"\"'+str(element)+'\"\"\"'\n",
    "        source_soup = BeautifulSoup(source)\n",
    "        link = source_soup.find('a', href=True) \n",
    "        each_pages = requests.get('https://www.zangia.mn/'+str(link['href'])).content.decode(\"utf-8\")\n",
    "        job = BeautifulSoup(each_pages, \"html.parser\")\n",
    "        \n",
    "        \n",
    "        inf = job.find(\"div\", attrs={\"class\": \"details\"})\n",
    "        str_inf = '\"\"\"'+str(inf)[21:]+'\"\"\"'\n",
    "        inf_soup = BeautifulSoup(str_inf)        \n",
    "        all_inf = inf_soup.find_all(\"div\")\n",
    "        for inf in all_inf:\n",
    "            if \"Салбар\" in str(inf):\n",
    "                job_sector = collect(inf)\n",
    "            if \"Цалин\" in str(inf):\n",
    "                salary_range = collect(inf)\n",
    "        job_title = job.find('h3').text\n",
    "        job_description = job.find(\"div\", attrs={\"class\": \"section\"}).text\n",
    "        \n",
    "        def build_df(collected_inf, row):\n",
    "            insert_loc = collected_inf.index.max()\n",
    "            if pd.isna(insert_loc):\n",
    "                collected_inf.loc[0] = row\n",
    "            else:\n",
    "                collected_inf.loc[insert_loc + 1] = row\n",
    "                \n",
    "        build_df(collected_inf,[job_title,job_description,job_sector,salary_range])  \n",
    "        \n",
    "        collected_inf"
   ]
  },
  {
   "cell_type": "code",
   "execution_count": 6,
   "metadata": {},
   "outputs": [
    {
     "data": {
      "text/html": [
       "<div>\n",
       "<style scoped>\n",
       "    .dataframe tbody tr th:only-of-type {\n",
       "        vertical-align: middle;\n",
       "    }\n",
       "\n",
       "    .dataframe tbody tr th {\n",
       "        vertical-align: top;\n",
       "    }\n",
       "\n",
       "    .dataframe thead th {\n",
       "        text-align: right;\n",
       "    }\n",
       "</style>\n",
       "<table border=\"1\" class=\"dataframe\">\n",
       "  <thead>\n",
       "    <tr style=\"text-align: right;\">\n",
       "      <th></th>\n",
       "      <th>Job title</th>\n",
       "      <th>Job description</th>\n",
       "      <th>Job sector</th>\n",
       "      <th>Salary range</th>\n",
       "    </tr>\n",
       "  </thead>\n",
       "  <tbody>\n",
       "    <tr>\n",
       "      <th>0</th>\n",
       "      <td>Веб-д суурилсан програм хөгжүүлэгч (Cash One app)</td>\n",
       "      <td>Гүйцэтгэх үндсэн үүрэгВеб-д суурилсан програм ...</td>\n",
       "      <td>Мэдээлэл технологи, Харилцаа холбоо</td>\n",
       "      <td>1,500,000 - 1,800,000</td>\n",
       "    </tr>\n",
       "    <tr>\n",
       "      <th>1</th>\n",
       "      <td>Mobile-app хөгжүүлэгч</td>\n",
       "      <td>Гүйцэтгэх үндсэн үүрэгCash One зээлийн applica...</td>\n",
       "      <td>Мэдээлэл технологи, Харилцаа холбоо</td>\n",
       "      <td>1,500,000 - 1,800,000</td>\n",
       "    </tr>\n",
       "    <tr>\n",
       "      <th>2</th>\n",
       "      <td>Програм хөгжүүлэгч</td>\n",
       "      <td>Гүйцэтгэх үндсэн үүрэгСистемийн шинжилгээ, зох...</td>\n",
       "      <td>Мэдээлэл технологи, Харилцаа холбоо</td>\n",
       "      <td>1,000,000 - 1,200,000</td>\n",
       "    </tr>\n",
       "    <tr>\n",
       "      <th>3</th>\n",
       "      <td>Мобайл аппликейшн хөгжүүлэгч</td>\n",
       "      <td>Гүйцэтгэх үндсэн үүрэг\\nМобайл аппликейшн хийх...</td>\n",
       "      <td>Мэдээлэл технологи, Харилцаа холбоо</td>\n",
       "      <td>4,000,000-аас дээшТохиролцоно</td>\n",
       "    </tr>\n",
       "    <tr>\n",
       "      <th>4</th>\n",
       "      <td>ДОТООД ХЯНАЛТ, ЧАНАРЫН МЕНЕЖЕР АЖИЛД АВНА</td>\n",
       "      <td>Гүйцэтгэх үндсэн үүрэгЛабораторийн үйл ажиллаг...</td>\n",
       "      <td>Үйлдвэрлэл, Дэд бүтэц</td>\n",
       "      <td>1,200,000 - 1,500,000</td>\n",
       "    </tr>\n",
       "    <tr>\n",
       "      <th>...</th>\n",
       "      <td>...</td>\n",
       "      <td>...</td>\n",
       "      <td>...</td>\n",
       "      <td>...</td>\n",
       "    </tr>\n",
       "    <tr>\n",
       "      <th>4252</th>\n",
       "      <td>Борлуулалтын менежер</td>\n",
       "      <td>Гүйцэтгэх үндсэн үүрэгБорлуулалтыг менежментий...</td>\n",
       "      <td>Худалдаа, Борлуулалт</td>\n",
       "      <td>1,200,000 - 1,500,000</td>\n",
       "    </tr>\n",
       "    <tr>\n",
       "      <th>4253</th>\n",
       "      <td>МЭДЭЭЛЭЛ ТЕХНОЛОГИЙН ИНЖЕНЕР</td>\n",
       "      <td>Гүйцэтгэх үндсэн үүрэгАжлын байрны тодорхойлол...</td>\n",
       "      <td>Мэдээлэл технологи, Харилцаа холбоо</td>\n",
       "      <td>1,200,000 - 1,500,000</td>\n",
       "    </tr>\n",
       "    <tr>\n",
       "      <th>4254</th>\n",
       "      <td>Сантехникч, техникийн ажилтан</td>\n",
       "      <td>Гүйцэтгэх үндсэн үүрэгКэмпийн сантехникийн асу...</td>\n",
       "      <td>Барилга, Үл хөдлөх хөрөнгө</td>\n",
       "      <td>800,000 - 1,000,000</td>\n",
       "    </tr>\n",
       "    <tr>\n",
       "      <th>4255</th>\n",
       "      <td>Хөгжмийн багш</td>\n",
       "      <td>Гүйцэтгэх үндсэн үүрэг-Төгөлдөр хуур, гитар зэ...</td>\n",
       "      <td>Боловсрол, Шинжлэх ухаан</td>\n",
       "      <td>600,000 - 800,000Тохиролцоно</td>\n",
       "    </tr>\n",
       "    <tr>\n",
       "      <th>4256</th>\n",
       "      <td>Эрүүл мэндийн шугамын эмч</td>\n",
       "      <td>Гүйцэтгэх үндсэн үүрэгХарилцагчид эрүүл мэндий...</td>\n",
       "      <td>Даатгал</td>\n",
       "      <td>800,000 - 1,000,000Тохиролцоно</td>\n",
       "    </tr>\n",
       "  </tbody>\n",
       "</table>\n",
       "<p>4257 rows × 4 columns</p>\n",
       "</div>"
      ],
      "text/plain": [
       "                                              Job title  \\\n",
       "0     Веб-д суурилсан програм хөгжүүлэгч (Cash One app)   \n",
       "1                                 Mobile-app хөгжүүлэгч   \n",
       "2                                    Програм хөгжүүлэгч   \n",
       "3                          Мобайл аппликейшн хөгжүүлэгч   \n",
       "4             ДОТООД ХЯНАЛТ, ЧАНАРЫН МЕНЕЖЕР АЖИЛД АВНА   \n",
       "...                                                 ...   \n",
       "4252                               Борлуулалтын менежер   \n",
       "4253                       МЭДЭЭЛЭЛ ТЕХНОЛОГИЙН ИНЖЕНЕР   \n",
       "4254                      Сантехникч, техникийн ажилтан   \n",
       "4255                                      Хөгжмийн багш   \n",
       "4256                          Эрүүл мэндийн шугамын эмч   \n",
       "\n",
       "                                        Job description  \\\n",
       "0     Гүйцэтгэх үндсэн үүрэгВеб-д суурилсан програм ...   \n",
       "1     Гүйцэтгэх үндсэн үүрэгCash One зээлийн applica...   \n",
       "2     Гүйцэтгэх үндсэн үүрэгСистемийн шинжилгээ, зох...   \n",
       "3     Гүйцэтгэх үндсэн үүрэг\\nМобайл аппликейшн хийх...   \n",
       "4     Гүйцэтгэх үндсэн үүрэгЛабораторийн үйл ажиллаг...   \n",
       "...                                                 ...   \n",
       "4252  Гүйцэтгэх үндсэн үүрэгБорлуулалтыг менежментий...   \n",
       "4253  Гүйцэтгэх үндсэн үүрэгАжлын байрны тодорхойлол...   \n",
       "4254  Гүйцэтгэх үндсэн үүрэгКэмпийн сантехникийн асу...   \n",
       "4255  Гүйцэтгэх үндсэн үүрэг-Төгөлдөр хуур, гитар зэ...   \n",
       "4256  Гүйцэтгэх үндсэн үүрэгХарилцагчид эрүүл мэндий...   \n",
       "\n",
       "                               Job sector                    Salary range  \n",
       "0     Мэдээлэл технологи, Харилцаа холбоо           1,500,000 - 1,800,000  \n",
       "1     Мэдээлэл технологи, Харилцаа холбоо           1,500,000 - 1,800,000  \n",
       "2     Мэдээлэл технологи, Харилцаа холбоо           1,000,000 - 1,200,000  \n",
       "3     Мэдээлэл технологи, Харилцаа холбоо   4,000,000-аас дээшТохиролцоно  \n",
       "4                   Үйлдвэрлэл, Дэд бүтэц           1,200,000 - 1,500,000  \n",
       "...                                   ...                             ...  \n",
       "4252                 Худалдаа, Борлуулалт           1,200,000 - 1,500,000  \n",
       "4253  Мэдээлэл технологи, Харилцаа холбоо           1,200,000 - 1,500,000  \n",
       "4254           Барилга, Үл хөдлөх хөрөнгө             800,000 - 1,000,000  \n",
       "4255             Боловсрол, Шинжлэх ухаан    600,000 - 800,000Тохиролцоно  \n",
       "4256                              Даатгал  800,000 - 1,000,000Тохиролцоно  \n",
       "\n",
       "[4257 rows x 4 columns]"
      ]
     },
     "execution_count": 6,
     "metadata": {},
     "output_type": "execute_result"
    }
   ],
   "source": [
    "collected_inf"
   ]
  }
 ],
 "metadata": {
  "kernelspec": {
   "display_name": "Python 3",
   "language": "python",
   "name": "python3"
  },
  "language_info": {
   "codemirror_mode": {
    "name": "ipython",
    "version": 3
   },
   "file_extension": ".py",
   "mimetype": "text/x-python",
   "name": "python",
   "nbconvert_exporter": "python",
   "pygments_lexer": "ipython3",
   "version": "3.8.3"
  }
 },
 "nbformat": 4,
 "nbformat_minor": 4
}
